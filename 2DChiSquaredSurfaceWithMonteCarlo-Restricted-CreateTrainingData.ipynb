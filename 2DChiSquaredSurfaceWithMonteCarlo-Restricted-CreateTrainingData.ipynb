{
 "cells": [
  {
   "cell_type": "code",
   "execution_count": 4,
   "id": "d5b15b4b",
   "metadata": {},
   "outputs": [
    {
     "data": {
      "image/png": "[encoded data removed]",
      "text/plain": [
       "<Figure size 864x864 with 1 Axes>"
      ]
     },
     "metadata": {
      "needs_background": "light"
     },
     "output_type": "display_data"
    },
    {
     "name": "stdout",
     "output_type": "stream",
     "text": [
      "[8.5, -1.1] 8.943\n",
      "Done\n",
      "Time taken:  9.829848792011035\n"
     ]
    }
   ],
   "source": [
    "#2D Chi-Squared Surface Thing\n",
    "\n",
    "import numpy as np\n",
    "import matplotlib.pyplot as plt\n",
    "import time\n",
    "import math\n",
    "\n",
    "start = time.perf_counter()\n",
    "\n",
    "measuredNuclearData = np.loadtxt(\"ZNBE.dat\")\n",
    "\n",
    "for i in measuredNuclearData:\n",
    "    \n",
    "    i[2] = i[2] * (i[0] + i[1]) \n",
    "    \n",
    "#This makes measuredNuclearData elements be: [Z, N, BE] instead of BE/A\n",
    "\n",
    "samples = 95\n",
    "\n",
    "chiSqSurfaceData = [0, 0, float('inf'), []]\n",
    "\n",
    "AvField = np.linspace(0,50, samples)\n",
    "AsField = np.linspace(-50, 0, samples)\n",
    "\n",
    "for Av in AvField:\n",
    "    for As in AsField:\n",
    "        chiSq = 0\n",
    "        SEMFData = []\n",
    "        for i in measuredNuclearData:\n",
    "\n",
    "            if i[0]!=i[1] or i[0] < 8:\n",
    "                continue\n",
    "            \n",
    "            Z = i[0]\n",
    "            N = i[1]\n",
    "            A = N + Z\n",
    "                \n",
    "            vol = Av * A\n",
    "            sur = As * A**(2/3)\n",
    "            \n",
    "            BE = vol + sur\n",
    "            \n",
    "            SEMFData.append([round(A, 1), BE])\n",
    "            chiSq += (BE - i[2])**2\n",
    "                        \n",
    "        if chiSq < chiSqSurfaceData[2]:\n",
    "            chiSqSurfaceData = [round(Av, 1), round(As, 1), round(chiSq, 1), SEMFData]                \n",
    "        \n",
    "\n",
    "SEMFData = chiSqSurfaceData[3]\n",
    "\n",
    "plt.figure(figsize=(12,12))\n",
    "\n",
    "A = [i[0] for i in SEMFData]\n",
    "BE = [i[1]/i[0] for i in SEMFData]\n",
    "\n",
    "plt.scatter(A, BE, s=5)\n",
    "realData = [([i[0]+i[1],i[2]]) for i in measuredNuclearData if ((i[0]==i[1]) and i[0] >= 8)]\n",
    "\n",
    "A = [i[0] for i in realData]\n",
    "BE = [i[1]/i[0] for i in realData]\n",
    "\n",
    "plt.scatter(A, BE, s = 5)\n",
    "plt.show()\n",
    "\n",
    "print(chiSqSurfaceData[0:2], round(math.log(chiSqSurfaceData[2]), 3))\n",
    "\n",
    "print(\"Done\")\n",
    "stop = time.perf_counter()\n",
    "print(\"Time taken: \", stop - start)"
   ]
  },
  {
   "cell_type": "code",
   "execution_count": 5,
   "id": "9ae0799e",
   "metadata": {},
   "outputs": [
    {
     "data": {
      "image/png": "[encoded data removed]",
      "text/plain": [
       "<Figure size 864x864 with 1 Axes>"
      ]
     },
     "metadata": {
      "needs_background": "light"
     },
     "output_type": "display_data"
    },
    {
     "name": "stdout",
     "output_type": "stream",
     "text": [
      "[9.0, -2.9, 9.175]\n",
      "Done\n",
      "Time taken:  9.54177358400193\n"
     ]
    }
   ],
   "source": [
    "start = time.perf_counter()\n",
    "\n",
    "AvField = np.linspace(0, 50, 501)\n",
    "AsField = np.linspace(-50, 0, 501)\n",
    "\n",
    "number_of_points = 1000 # ~14 seconds per 10,000\n",
    "\n",
    "bestSEMF = []\n",
    "bestChiSq = float('inf')\n",
    "chiSqSurfaceData = []\n",
    "\n",
    "for i in range(number_of_points):\n",
    "    \n",
    "    chiSq = 0\n",
    "    SEMFData = []\n",
    "    \n",
    "    Av = round(AvField[np.random.randint(0, 501)], 1)\n",
    "    As = round(AsField[np.random.randint(0, 501)], 1)\n",
    "    \n",
    "    for i in measuredNuclearData:\n",
    "        \n",
    "        if i[0]!=i[1] or i[0] < 8:\n",
    "            continue\n",
    "        \n",
    "        Z = i[0]\n",
    "        N = i[1]\n",
    "        A = N + Z\n",
    "\n",
    "        vol = Av * A\n",
    "        sur = As * A**(2/3)\n",
    "\n",
    "        BE = vol + sur\n",
    "\n",
    "        SEMFData.append([A, BE])\n",
    "        chiSq += (BE - i[2])**2\n",
    "    \n",
    "    chiSqSurfaceData.append([Av, As, round(chiSq, 1)])\n",
    "    \n",
    "    if chiSq < bestChiSq:\n",
    "        bestSEMF = SEMFData\n",
    "        bestChiSq = chiSq\n",
    "\n",
    "maxChi = max([i[2] for i in chiSqSurfaceData])\n",
    "\n",
    "chiSqSurfaceData = [[i[0], i[1], round(math.log(i[2]), 3)] for i in chiSqSurfaceData]\n",
    "\n",
    "np.savetxt('2DchiSqSurfaceTrainingDataRestricted.dat', chiSqSurfaceData)\n",
    "\n",
    "chi = [chiSqSurfaceData[i][2] for i in range(len(chiSqSurfaceData))]\n",
    "minChi = min(chi)\n",
    "minIndex = chi.index(minChi)\n",
    "\n",
    "realData = [([i[0]+i[1],i[2]]) for i in measuredNuclearData if (i[0]==i[1])]\n",
    "\n",
    "plt.figure(figsize=(12,12))\n",
    "\n",
    "A = [i[0] for i in bestSEMF]\n",
    "BE = [i[1]/i[0] for i in bestSEMF]\n",
    "\n",
    "plt.scatter(A, BE, s=5)\n",
    "\n",
    "A = [i[0] for i in realData]\n",
    "BE = [i[1]/i[0] for i in realData]\n",
    "\n",
    "plt.scatter(A, BE, s = 5)\n",
    "plt.show()\n",
    "\n",
    "print(chiSqSurfaceData[minIndex][0:3])\n",
    "\n",
    "print(\"Done\")\n",
    "stop = time.perf_counter()\n",
    "print(\"Time taken: \", stop - start)"
   ]
  },
  {
   "cell_type": "code",
   "execution_count": null,
   "id": "bafb0af2",
   "metadata": {},
   "outputs": [],
   "source": []
  },
  {
   "cell_type": "code",
   "execution_count": null,
   "id": "5eb3d362",
   "metadata": {},
   "outputs": [],
   "source": []
  },
  {
   "cell_type": "code",
   "execution_count": null,
   "id": "785c5d35",
   "metadata": {},
   "outputs": [],
   "source": []
  }
 ],
 "metadata": {
  "kernelspec": {
   "display_name": "Python 3 (ipykernel)",
   "language": "python",
   "name": "python3"
  },
  "language_info": {
   "codemirror_mode": {
    "name": "ipython",
    "version": 3
   },
   "file_extension": ".py",
   "mimetype": "text/x-python",
   "name": "python",
   "nbconvert_exporter": "python",
   "pygments_lexer": "ipython3",
   "version": "3.8.11"
  }
 },
 "nbformat": 4,
 "nbformat_minor": 5
}
